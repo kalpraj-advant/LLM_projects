{
 "cells": [
  {
   "cell_type": "code",
   "execution_count": null,
   "id": "fbe9cfb5",
   "metadata": {},
   "outputs": [],
   "source": [
    "GOOGLE_API_KEY = \"\"\n",
    "ANTHROPIC_API_KEY = \"\""
   ]
  },
  {
   "cell_type": "markdown",
   "id": "7d5d8e3a",
   "metadata": {},
   "source": [
    "## Google API Key"
   ]
  },
  {
   "cell_type": "code",
   "execution_count": 7,
   "id": "ccdf266a",
   "metadata": {},
   "outputs": [
    {
     "name": "stdout",
     "output_type": "stream",
     "text": [
      "AI learns patterns from data to make predictions or decisions.\n",
      "\n"
     ]
    }
   ],
   "source": [
    "from google import genai\n",
    "\n",
    "client = genai.Client(api_key=GOOGLE_API_KEY)\n",
    "\n",
    "response = client.models.generate_content(\n",
    "    model=\"gemini-2.0-flash\", contents=\"Explain how AI works in a few words\"\n",
    ")\n",
    "print(response.text)"
   ]
  },
  {
   "cell_type": "markdown",
   "id": "d1e823d9",
   "metadata": {},
   "source": [
    "## ANTHROPIC"
   ]
  },
  {
   "cell_type": "code",
   "execution_count": null,
   "id": "f3c5e39b",
   "metadata": {},
   "outputs": [
    {
     "data": {
      "text/plain": [
       "{'id': 'msg_01Keq4FqYuYdPxUpvrnmj83B',\n",
       " 'type': 'message',\n",
       " 'role': 'assistant',\n",
       " 'model': 'claude-3-5-sonnet-20241022',\n",
       " 'content': [{'type': 'text',\n",
       "   'text': 'AI learns patterns from data to make predictions and decisions using complex mathematical algorithms.'}],\n",
       " 'stop_reason': 'end_turn',\n",
       " 'stop_sequence': None,\n",
       " 'usage': {'input_tokens': 27,\n",
       "  'cache_creation_input_tokens': 0,\n",
       "  'cache_read_input_tokens': 0,\n",
       "  'output_tokens': 18,\n",
       "  'service_tier': 'standard'}}"
      ]
     },
     "execution_count": 12,
     "metadata": {},
     "output_type": "execute_result"
    }
   ],
   "source": [
    "import requests\n",
    "import httpx\n",
    "import asyncio\n",
    "\n",
    "model = \"claude-3-sonnet-20240229\"\n",
    "\n",
    "payload = {\n",
    "            \"model\": \"claude-3-5-sonnet-20241022\",\n",
    "            \"max_tokens\": 1024,\n",
    "            \"system\": \"Answer the question as concisely as possible.\",\n",
    "            \"messages\": [\n",
    "                {\"role\": \"user\", \"content\": \"Explain how AI works in a few words.\"},\n",
    "            ]\n",
    "        }\n",
    "\n",
    "headers = {\n",
    "            \"x-api-key\": ANTHROPIC_API_KEY,\n",
    "            \"anthropic-version\": \"2023-06-01\",\n",
    "            \"content-type\": \"application/json\"\n",
    "        }\n",
    "\n",
    "async with httpx.AsyncClient() as client:\n",
    "        response = await client.post(\"https://api.anthropic.com/v1/messages\", json=payload, headers=headers)\n",
    "\n",
    "result = response.json()\n",
    "\n",
    "print(result[\"content\"][0][\"text\"])\n"
   ]
  },
  {
   "cell_type": "markdown",
   "id": "df823f88",
   "metadata": {},
   "source": [
    "## Ollama"
   ]
  },
  {
   "cell_type": "code",
   "execution_count": 13,
   "id": "0b7ba0df",
   "metadata": {},
   "outputs": [
    {
     "name": "stdout",
     "output_type": "stream",
     "text": [
      "Artificial Intelligence (AI) involves complex algorithms and machine learning to analyze data, learn patterns, and make decisions.\n"
     ]
    }
   ],
   "source": [
    "OLLAMA_API = \"http://localhost:11434/api/chat\"\n",
    "model = \"llama3.2\"\n",
    "\n",
    "messages = [\n",
    "    {\"role\": \"system\", \"content\": \"Answer the question as concisely as possible.\"},\n",
    "    {\"role\": \"user\", \"content\": \"Explain how AI works in a few words.\"}\n",
    "]\n",
    "\n",
    "response = requests.post(\n",
    "    OLLAMA_API,\n",
    "    json={\n",
    "        \"model\": model,\n",
    "        \"messages\": messages,\n",
    "        \"stream\": False\n",
    "    }\n",
    ")\n",
    "\n",
    "reply = response.json()['message']['content']\n",
    "print(reply)"
   ]
  }
 ],
 "metadata": {
  "kernelspec": {
   "display_name": "base",
   "language": "python",
   "name": "python3"
  },
  "language_info": {
   "codemirror_mode": {
    "name": "ipython",
    "version": 3
   },
   "file_extension": ".py",
   "mimetype": "text/x-python",
   "name": "python",
   "nbconvert_exporter": "python",
   "pygments_lexer": "ipython3",
   "version": "3.11.5"
  }
 },
 "nbformat": 4,
 "nbformat_minor": 5
}
