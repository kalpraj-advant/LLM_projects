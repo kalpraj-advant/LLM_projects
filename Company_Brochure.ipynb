{
 "cells": [
  {
   "cell_type": "code",
   "execution_count": 1,
   "id": "b7e209aa",
   "metadata": {},
   "outputs": [],
   "source": [
    "import requests\n",
    "from bs4 import BeautifulSoup\n",
    "from IPython.display import Markdown, display "
   ]
  },
  {
   "cell_type": "code",
   "execution_count": 2,
   "id": "ea138274",
   "metadata": {},
   "outputs": [],
   "source": [
    "OLLAMA_API = \"http://localhost:11434/api/chat\"\n",
    "model = \"llama3.2\""
   ]
  },
  {
   "cell_type": "code",
   "execution_count": 7,
   "id": "33b87864",
   "metadata": {},
   "outputs": [],
   "source": [
    "\n",
    "def get_website_data(url):\n",
    "    response = requests.get(url)\n",
    "    soup = BeautifulSoup(response.text, 'html.parser')\n",
    "    title = soup.title.string if soup.title else \"No Title Found\"\n",
    "    text = soup.get_text(separator=\"\\n\", strip=True)\n",
    "    return title, text\n",
    "\n",
    "def company_brochure(title, text):\n",
    "    user_prompt_content = (\n",
    "    f\"You are looking at the website titled \\\"{title}\\\". \"\n",
    "    \"The content of this website is as follows. \"\n",
    "    \"Based on this information, create a professional, well-structured company brochure in markdown format. \"\n",
    "    \"Include a company overview, key services or products, notable achievements if any, and a compelling call to action at the end. \"\n",
    "    \"Use clear section headings and bullet points where appropriate.\\n\\n\"\n",
    "    f\"\\\"\\\"\\\"\\n{text}\\n\\\"\\\"\\\"\\n\\n\"\n",
    ")\n",
    "\n",
    "    system_prompt = \"You are a skilled marketing assistant specializing in writing company brochures from website content.\"\n",
    "\n",
    "\n",
    "    messages = [\n",
    "        {\"role\": \"system\", \"content\": system_prompt},\n",
    "        {\"role\": \"user\", \"content\": user_prompt_content}\n",
    "    ]\n",
    "\n",
    "    response = requests.post(\n",
    "        OLLAMA_API,\n",
    "        json={\n",
    "            \"model\": model,\n",
    "            \"messages\": messages,\n",
    "            \"stream\": False\n",
    "        }\n",
    "    )\n",
    "\n",
    "    reply = response.json()['message']['content']\n",
    "    return reply\n",
    "\n"
   ]
  },
  {
   "cell_type": "code",
   "execution_count": 8,
   "id": "00b99674",
   "metadata": {},
   "outputs": [],
   "source": [
    "def ompany_brochure_for_url(url):\n",
    "    title, text = get_website_data(url)\n",
    "    display(Markdown(f\"## 📄 Website Title: {title}\"))\n",
    "    summary = company_brochure(title, text)\n",
    "    display(Markdown(\"## 📑 Summary:\"))\n",
    "    display(Markdown(summary))"
   ]
  },
  {
   "cell_type": "code",
   "execution_count": 9,
   "id": "6baf7347",
   "metadata": {},
   "outputs": [
    {
     "data": {
      "text/markdown": [
       "## 📄 Website Title: Apple"
      ],
      "text/plain": [
       "<IPython.core.display.Markdown object>"
      ]
     },
     "metadata": {},
     "output_type": "display_data"
    },
    {
     "data": {
      "text/markdown": [
       "## 📑 Summary:"
      ],
      "text/plain": [
       "<IPython.core.display.Markdown object>"
      ]
     },
     "metadata": {},
     "output_type": "display_data"
    },
    {
     "data": {
      "text/markdown": [
       "# Apple Brochure\n",
       "\n",
       "## Overview\n",
       "\n",
       "Apple is a technology company that designs, manufactures, and markets consumer electronics, computer software, and online services. Founded in 1976 by Steve Jobs, Steve Wozniak, and Ronald Wayne, Apple has grown to become one of the world's most valuable companies.\n",
       "\n",
       "## Key Services and Products\n",
       "\n",
       "* **iPhone**: A line of smartphones that combine innovative technology with sleek design.\n",
       "* **Mac**: A range of personal computers designed for creativity, productivity, and entertainment.\n",
       "* **iPad**: A tablet computer perfect for reading, browsing, and gaming.\n",
       "* **Apple Watch**: A smartwatch that tracks fitness, receives notifications, and responds to voice commands.\n",
       "* **AirPods**: Wireless earbuds with advanced noise-cancellation technology.\n",
       "* **Apple TV+**: A streaming service offering original content, including movies, TV shows, and documentaries.\n",
       "\n",
       "## Notable Achievements\n",
       "\n",
       "* Apple has been consistently ranked as one of the most valuable companies in the world by Forbes.\n",
       "* The company has won numerous awards for its innovative products and design.\n",
       "* Apple has a strong commitment to environmental sustainability and social responsibility.\n",
       "\n",
       "## Introducing Apple Intelligence\n",
       "\n",
       "Apple's latest innovation, **Apple Intelligence**, is now available on all iPhone 16 models. This technology uses advanced machine learning algorithms to provide users with personalized suggestions and insights.\n",
       "\n",
       "## Trade-In Program\n",
       "\n",
       "Apple offers a trade-in program that allows customers to exchange their old devices for credit towards a new purchase. With this program, customers can receive up to $1,000 in credit towards a new Apple device.\n",
       "\n",
       "## Join the Apple Community\n",
       "\n",
       "Join our community of innovators and creatives by signing up for Apple's newsletter or following us on social media. We're committed to empowering individuals and communities around the world with technology that makes a difference.\n",
       "\n",
       "### Call to Action\n",
       "\n",
       "Visit your nearest Apple Store or shop online today to experience the latest in Apple technology. Get started with Apple Intelligence and discover a new way of living, working, and playing.\n",
       "\n",
       "**Trade-In Offer Details**\n",
       "\n",
       "* Trade-in values will vary based on the condition, year, and configuration of your eligible trade-in device.\n",
       "* Offer may not be available in all stores, and may vary between in-store and online trade-in.\n",
       "* Some stores may have additional requirements. Apple or its trade-in partners reserve the right to refuse, cancel, or limit quantity of any trade-in transaction for any reason.\n",
       "\n",
       "Note: The brochure is written in markdown format with clear section headings and bullet points where appropriate."
      ],
      "text/plain": [
       "<IPython.core.display.Markdown object>"
      ]
     },
     "metadata": {},
     "output_type": "display_data"
    }
   ],
   "source": [
    "ompany_brochure_for_url(\"https://www.apple.com/\")"
   ]
  },
  {
   "cell_type": "code",
   "execution_count": null,
   "id": "99d0c690",
   "metadata": {},
   "outputs": [],
   "source": []
  }
 ],
 "metadata": {
  "kernelspec": {
   "display_name": "Python 3",
   "language": "python",
   "name": "python3"
  },
  "language_info": {
   "codemirror_mode": {
    "name": "ipython",
    "version": 3
   },
   "file_extension": ".py",
   "mimetype": "text/x-python",
   "name": "python",
   "nbconvert_exporter": "python",
   "pygments_lexer": "ipython3",
   "version": "3.11.0"
  }
 },
 "nbformat": 4,
 "nbformat_minor": 5
}
